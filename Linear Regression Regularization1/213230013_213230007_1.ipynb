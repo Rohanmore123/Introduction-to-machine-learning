{
 "cells": [
  {
   "cell_type": "markdown",
   "metadata": {
    "id": "Vl8EigX3osrA"
   },
   "source": [
    "#**EE769 Introduction to Machine Learning**\n",
    "\n",
    "#Assignment 1: Gradient Descent, Linear Regression, and Regularization\n",
    "\n",
    "\n",
    "**Template and Instructions**\n",
    "\n",
    "\n",
    "\n",
    "1. Up to two people can team up, but only one should submit, and both should understand the entire code.\n",
    "2. Every line of code should end in a comment explaining the line\n",
    "3. It is recommended to solve the assignment in Google Colab.\n",
    "Write your roll no.s separated by commas here: 213230013, 213230007 .\n",
    "4. Write your names here: Rohan Appaso More, Mirza Aman Baig.\n",
    "5. There are two parts to the assignment. In the Part 1, the code format has to be strictly followed to enable auto-grading. In the second part, you can be creative.\n",
    "6. **You can discuss with other groups or refer to the internet without being penalized, but you cannot copy their code and modify it. Write every line of code and comment on your own.**\n",
    "\n"
   ]
  },
  {
   "cell_type": "markdown",
   "metadata": {
    "deletable": false,
    "editable": false,
    "id": "pyC6rfqZokyx",
    "nbgrader": {
     "cell_type": "markdown",
     "checksum": "2c8d558bf9a7a47ea4bf343fa6fe9efb",
     "grade": false,
     "grade_id": "Title",
     "locked": true,
     "schema_version": 3,
     "solution": false,
     "task": false
    }
   },
   "source": [
    "#**Part 1 begins ...**\n",
    "**Instructions to be strictly followed:**\n",
    "\n",
    "1. Do not add any code cells or markdown cells until the end of this part. Especially, do not change the blocks that say \"TEST CASES, DO NOT CHANGE\"\n",
    "2. In all other cells only add code where it says \"CODE HERE\".\n",
    "3. If you encounter any raise NotImplementedError() calls you may comment them out.\n",
    "\n",
    "We cannot ensure correct grading if you change anything else, and you may be penalised for not following these instructions."
   ]
  },
  {
   "cell_type": "markdown",
   "metadata": {
    "id": "Fuh-16Vfrtp7"
   },
   "source": [
    "## Import Statements"
   ]
  },
  {
   "cell_type": "code",
   "execution_count": 1,
   "metadata": {
    "deletable": false,
    "editable": false,
    "id": "wGY8PStloky3",
    "nbgrader": {
     "cell_type": "code",
     "checksum": "fe70877a859ee0a10e9d591778022f8a",
     "grade": false,
     "grade_id": "Import_Statements",
     "locked": true,
     "schema_version": 3,
     "solution": false,
     "task": false
    }
   },
   "outputs": [],
   "source": [
    "import numpy as np\n",
    "import pandas as pd\n",
    "from matplotlib import pyplot as plt"
   ]
  },
  {
   "cell_type": "markdown",
   "metadata": {
    "deletable": false,
    "editable": false,
    "id": "y3pISCproky5",
    "nbgrader": {
     "cell_type": "markdown",
     "checksum": "e36a214573fc40f26b45e72215d61375",
     "grade": false,
     "grade_id": "Normalize_Title",
     "locked": true,
     "schema_version": 3,
     "solution": false,
     "task": false
    }
   },
   "source": [
    "## Normalize function \n",
    "\n",
    "Add your code in the cell below to normalize the independent variables, making them zero mean and unit variance."
   ]
  },
  {
   "cell_type": "code",
   "execution_count": 2,
   "metadata": {
    "deletable": false,
    "id": "rS3upFWtoky5",
    "nbgrader": {
     "cell_type": "code",
     "checksum": "0039f4480dfc6d62a548d976991c3a44",
     "grade": false,
     "grade_id": "Normalize_Function",
     "locked": false,
     "schema_version": 3,
     "solution": true,
     "task": false
    }
   },
   "outputs": [],
   "source": [
    "def Normalize(X): # Output should be a normalized data matrix of the same dimension\n",
    "    '''\n",
    "    Normalize all columns of X using mean and standard deviation\n",
    "    '''\n",
    "    X_normalise = (X-np.mean(X,axis=0))/(np.std(X,axis=0)) #Normalising the data such that it has zero mean and unit variance\n",
    "    return X_normalise\n",
    "\n",
    "#     raise NotImplementedError()"
   ]
  },
  {
   "cell_type": "code",
   "execution_count": 3,
   "metadata": {
    "deletable": false,
    "editable": false,
    "id": "ygO-K7bzoky6",
    "nbgrader": {
     "cell_type": "code",
     "checksum": "7797dd606a68f028c945acd08850d108",
     "grade": true,
     "grade_id": "Normalize_Test",
     "locked": true,
     "points": 5,
     "schema_version": 3,
     "solution": false,
     "task": false
    }
   },
   "outputs": [],
   "source": [
    "'''\n",
    "TEST CASES, DO NOT CHANGE\n",
    "'''\n",
    "''' case 1 - 1 dimensional array'''\n",
    "#X=np.array([[1,2,3],[3,4,5],[7,8,9]])\n",
    "X1=np.array([1,2,3])\n",
    "np.testing.assert_array_almost_equal(Normalize(X1),np.array([-1.224,  0.      ,  1.224]),decimal=3)\n",
    "''' case 2 - 2 dimensional array'''\n",
    "X2=np.array([[4,7,6],[3,8,9],[5,11,10]])\n",
    "np.testing.assert_array_almost_equal(Normalize(X2),np.array([[ 0.  , -0.980581, -1.372813],[-1.224745, -0.392232,  0.392232],[ 1.224745,  1.372813,  0.980581]]))\n",
    "''' case 3 - 1 dimensional array with float'''\n",
    "X3=np.array([5.5,6.7,3.2,6.7])\n",
    "np.testing.assert_array_almost_equal(Normalize(X3),np.array([-0.017,  0.822, -1.627,  0.822]),decimal=3)"
   ]
  },
  {
   "cell_type": "markdown",
   "metadata": {
    "id": "ccow4yKXoky7"
   },
   "source": [
    "## Prediction Function\n",
    "\n",
    "Given X and w, compute the predicted output. Do not forget to add 1's in X"
   ]
  },
  {
   "cell_type": "code",
   "execution_count": 4,
   "metadata": {
    "deletable": false,
    "id": "3PRnu4F1oky7",
    "nbgrader": {
     "cell_type": "code",
     "checksum": "7b715eb6b4f2b77697550a46e173159a",
     "grade": false,
     "grade_id": "Prediction",
     "locked": false,
     "schema_version": 3,
     "solution": true,
     "task": false
    }
   },
   "outputs": [],
   "source": [
    "def Prediction (X, w): # Output should be a prediction vector y\n",
    "    '''\n",
    "    Compute Prediction given an input datamatrix X and weight vecor w. Output y = [X 1]w where 1 is a vector of all 1s \n",
    "    '''\n",
    "    n,m = X.shape  #storing number of rows and columns of X in n and m correspondingly.\n",
    "    X0 = np.ones((n,1)) # creating a vector of ones.\n",
    "    Xnew = np.hstack((X,X0))  #Now finally we can concatenate the X0 vector \n",
    "    y = np.matmul(Xnew,w)   # our prediction function is y which is y = Xnew*w\n",
    "    return y\n",
    "# #   \n",
    "    #raise NotImplementedError()\n"
   ]
  },
  {
   "cell_type": "code",
   "execution_count": 5,
   "metadata": {
    "deletable": false,
    "editable": false,
    "id": "7vDdDzS4oky8",
    "nbgrader": {
     "cell_type": "code",
     "checksum": "741f088432fb2ac3c49d3c9711d5c9c5",
     "grade": true,
     "grade_id": "PredictionTest",
     "locked": true,
     "points": 5,
     "schema_version": 3,
     "solution": false,
     "task": false
    }
   },
   "outputs": [],
   "source": [
    "'''\n",
    "TEST CASES, DO NOT CHANGE\n",
    "'''\n",
    "''' case 1 - Known input output matrix and weights 1'''\n",
    "X1 = np.array([[3,2],[1,1]])\n",
    "w1 = np.array([2,1,1]) \n",
    "np.testing.assert_array_equal(Prediction(X1,w1),np.array([9,4]))\n"
   ]
  },
  {
   "cell_type": "markdown",
   "metadata": {
    "deletable": false,
    "editable": false,
    "id": "CE6c5oM2oky9",
    "nbgrader": {
     "cell_type": "markdown",
     "checksum": "bb888c2310846a4ec20a151ff4b44291",
     "grade": false,
     "grade_id": "cell-6fda2832d5967072",
     "locked": true,
     "schema_version": 3,
     "solution": false,
     "task": false
    }
   },
   "source": [
    "## Loss Functions\n",
    "\n",
    "Code the four  loss functions:\n",
    "\n",
    "1. MSE loss is only for the error\n",
    "2. MAE loss is only for the error\n",
    "3. L2 loss is for MSE and L2 regularization, and can call MSE loss\n",
    "4. L1 loss is for MSE and L1 regularization, and can call MSE loss"
   ]
  },
  {
   "cell_type": "code",
   "execution_count": 6,
   "metadata": {
    "deletable": false,
    "id": "Vx4oUdwRoky-",
    "nbgrader": {
     "cell_type": "code",
     "checksum": "834438a2ea2e2b52359b9620e36d82b2",
     "grade": false,
     "grade_id": "MSE_Loss",
     "locked": false,
     "schema_version": 3,
     "solution": true,
     "task": false
    }
   },
   "outputs": [],
   "source": [
    "def MSE_Loss (X, t, w, lamda =0): # Ouput should be a single number\n",
    "    '''\n",
    "    lamda=0 is a default argument to prevent errors if you pass lamda to a function that doesn't need it by mistake. \n",
    "    This allows us to call all loss functions with the same input format.\n",
    "    \n",
    "    You are encouraged read about default arguments by yourself online if you're not familiar.\n",
    "    '''\n",
    "    n,m = X.shape \n",
    "    X0 = np.ones((n,1))\n",
    "    Xnew = np.hstack((X,X0))\n",
    "    y = np.matmul(Xnew,w)\n",
    "\n",
    "    mse = (np.square(t-y)).mean() #using the standard formula of mse\n",
    "    return mse\n",
    "        \n",
    " \n",
    "    raise NotImplementedError()"
   ]
  },
  {
   "cell_type": "code",
   "execution_count": 7,
   "metadata": {
    "deletable": false,
    "editable": false,
    "id": "beahjBNooky-",
    "nbgrader": {
     "cell_type": "code",
     "checksum": "923a1372a401b41d6ef6b0749a49ff66",
     "grade": true,
     "grade_id": "MSE_Loss_Test",
     "locked": true,
     "points": 2,
     "schema_version": 3,
     "solution": false,
     "task": false
    }
   },
   "outputs": [],
   "source": [
    "'''\n",
    "TEST CASES, DO NOT CHANGE\n",
    "'''\n",
    "''' case 1 '''\n",
    "X=np.array([[3,6,5],[4.5,6.6,6]])\n",
    "t=np.array([4,5.5])\n",
    "w=np.array([2,-1,0.5,1])\n",
    "np.testing.assert_almost_equal(MSE_Loss(X,t,w),0.53,decimal=3)\n"
   ]
  },
  {
   "cell_type": "code",
   "execution_count": 8,
   "metadata": {
    "deletable": false,
    "id": "d6Pbd2AToky_",
    "nbgrader": {
     "cell_type": "code",
     "checksum": "a6bc90c02aba76b8ca4072b0b5655560",
     "grade": false,
     "grade_id": "MAE_Loss",
     "locked": false,
     "schema_version": 3,
     "solution": true,
     "task": false
    }
   },
   "outputs": [],
   "source": [
    "def MAE_Loss (X, t, w, lamda = 0): # Output should be a single number\n",
    "    n,m = X.shape \n",
    "    X0 = np.ones((n,1))\n",
    "    Xnew = np.hstack((X,X0))\n",
    "    y = np.matmul(Xnew,w)\n",
    "\n",
    "    k2 = np.absolute((t-y)) #using the standard formula of MAE\n",
    "    mae = k2.mean()\n",
    "    return mae\n",
    "    \n",
    "    \n",
    "    # YOUR CODE HERE\n",
    "    #raise NotImplementedError()"
   ]
  },
  {
   "cell_type": "code",
   "execution_count": 9,
   "metadata": {
    "deletable": false,
    "editable": false,
    "id": "3IRXwTLwoky_",
    "nbgrader": {
     "cell_type": "code",
     "checksum": "f11d5fde7220893a9809f2954d18c5e5",
     "grade": true,
     "grade_id": "MAE_Loss_Test",
     "locked": true,
     "points": 2,
     "schema_version": 3,
     "solution": false,
     "task": false
    }
   },
   "outputs": [],
   "source": [
    "'''\n",
    "TEST CASES, DO NOT CHANGE\n",
    "'''\n",
    "''' case 1 '''\n",
    "X=np.array([[3,6,5],[4.5,6.6,6]])\n",
    "t=np.array([4,5.5])\n",
    "w=np.array([2,-1,0.5,1])\n",
    "np.testing.assert_almost_equal(MAE_Loss(X,t,w),0.700,decimal=3)\n"
   ]
  },
  {
   "cell_type": "code",
   "execution_count": 10,
   "metadata": {
    "deletable": false,
    "id": "GJcMY6bPokzA",
    "nbgrader": {
     "cell_type": "code",
     "checksum": "8cbed9318984e9fb83254ad57d06436e",
     "grade": false,
     "grade_id": "L2_Loss",
     "locked": false,
     "schema_version": 3,
     "solution": true,
     "task": false
    }
   },
   "outputs": [],
   "source": [
    "def L2_Loss (X, t, w, lamda=0): # Output should be a single number\n",
    "    ''' Need to specify what inputs are'''\n",
    "    n,m = X.shape \n",
    "    X0 = np.ones((n,1))\n",
    "    l = 0.5  # l is lambda\n",
    "    Xnew = np.hstack((X,X0))\n",
    "    y = np.matmul(Xnew,w)\n",
    "    term1 = (np.square(t-y)).mean() #this is mse which is first term of L2\n",
    "    p = w.shape \n",
    "    q = p[0]  \n",
    "    \n",
    "    wnew = np.delete(w,q-1)  #dropping the bias\n",
    "    sqr_wnew = np.square(wnew)\n",
    "    sum_sqr_wnew = np.sum(sqr_wnew) #using norm for second term\n",
    "    term2 = l*(np.sqrt(sum_sqr_wnew))\n",
    "    final = term1+term2\n",
    "    return final\n",
    "    \n",
    "    # YOUR CODE HERE\n",
    "    \n",
    "    #raise NotImplementedError()"
   ]
  },
  {
   "cell_type": "code",
   "execution_count": 11,
   "metadata": {
    "deletable": false,
    "editable": false,
    "id": "DQJBvFVnokzA",
    "nbgrader": {
     "cell_type": "code",
     "checksum": "a5a409056f6797cdf8cbfab61b138c37",
     "grade": true,
     "grade_id": "L2_Loss_Test",
     "locked": true,
     "points": 2,
     "schema_version": 3,
     "solution": false,
     "task": false
    }
   },
   "outputs": [],
   "source": [
    "'''\n",
    "TEST CASES, DO NOT CHANGE\n",
    "'''\n",
    "''' case 1 '''\n",
    "X=np.array([[3,6,5],[4.5,6.6,6]])\n",
    "t=np.array([4,5.5])\n",
    "w=np.array([2,-1,0.5,1])\n",
    "np.testing.assert_almost_equal(L2_Loss(X,t,w,0.5),1.675,decimal=3)\n"
   ]
  },
  {
   "cell_type": "code",
   "execution_count": 12,
   "metadata": {
    "deletable": false,
    "id": "1YwydMcAokzA",
    "nbgrader": {
     "cell_type": "code",
     "checksum": "bb055d3436a79fb3acb7535956f57466",
     "grade": false,
     "grade_id": "L1_Loss",
     "locked": false,
     "schema_version": 3,
     "solution": true,
     "task": false
    }
   },
   "outputs": [],
   "source": [
    "def L1_Loss (X, t, w, lamda): # Output should be a single number\n",
    "    p = w.shape\n",
    "    q = p[0]\n",
    "    wnew = np.delete(w,q-1)\n",
    "    term2 = lamda*(np.sum(np.absolute(wnew)))  #for second term of L1 using standard formula\n",
    "    final = MSE_Loss (X, t, w, lamda =0) + term2\n",
    "    return final\n",
    "    # YOUR CODE HERE\n",
    "    raise NotImplementedError()"
   ]
  },
  {
   "cell_type": "code",
   "execution_count": 13,
   "metadata": {
    "deletable": false,
    "editable": false,
    "id": "IYLTEnR5okzB",
    "nbgrader": {
     "cell_type": "code",
     "checksum": "40224dd69dd8e6499a67271c33701bf4",
     "grade": true,
     "grade_id": "L1_Loss_Test",
     "locked": true,
     "points": 2,
     "schema_version": 3,
     "solution": false,
     "task": false
    }
   },
   "outputs": [],
   "source": [
    "'''\n",
    "TEST CASES, DO NOT CHANGE\n",
    "'''\n",
    "''' case 1 '''\n",
    "X=np.array([[3,6,5],[4.5,6.6,6]])\n",
    "t=np.array([4,5.5])\n",
    "w=np.array([2,-1,0.5,1])\n",
    "np.testing.assert_almost_equal(L1_Loss(X,t,w,0.5),2.280,decimal=3)\n"
   ]
  },
  {
   "cell_type": "code",
   "execution_count": 14,
   "metadata": {
    "deletable": false,
    "id": "GgsKvizNokzB",
    "nbgrader": {
     "cell_type": "code",
     "checksum": "b6143269d14fa4e9b9a54a90f229620c",
     "grade": false,
     "grade_id": "NRMSE_Loss",
     "locked": false,
     "schema_version": 3,
     "solution": true,
     "task": false
    }
   },
   "outputs": [],
   "source": [
    "def NRMSE_Loss (X, t, w): # Output should be a single number\n",
    "    numr = np.sqrt(MSE_Loss (X, t, w, lamda =0)) #calling the mse function defined above and taking its square root to get RMSE\n",
    "    denr = t.std() \n",
    "    nrmse = numr/denr     #NRMSE_Loss = RMSE/standard deviation of t. where t is the actual value of output.\n",
    "    return nrmse\n",
    "    \n",
    "    # YOUR CODE HERE\n",
    "    raise NotImplementedError()"
   ]
  },
  {
   "cell_type": "code",
   "execution_count": 15,
   "metadata": {
    "deletable": false,
    "editable": false,
    "id": "A15tcCFqokzB",
    "nbgrader": {
     "cell_type": "code",
     "checksum": "06456562aa2ed36b11c7d40c52610133",
     "grade": true,
     "grade_id": "NRMSE_Loss_Test",
     "locked": true,
     "points": 2,
     "schema_version": 3,
     "solution": false,
     "task": false
    }
   },
   "outputs": [],
   "source": [
    "'''\n",
    "TEST CASES, DO NOT CHANGE\n",
    "'''\n",
    "''' Test case 1 '''\n",
    "X=np.array([[3,6,5],[4.5,6.6,6]])\n",
    "t=np.array([4,5.5])\n",
    "w=np.array([2,-1,0.5,1])\n",
    "np.testing.assert_almost_equal(NRMSE_Loss(X,t,w),0.970,decimal=3)\n"
   ]
  },
  {
   "cell_type": "markdown",
   "metadata": {
    "deletable": false,
    "editable": false,
    "id": "zAJLKJNNokzC",
    "nbgrader": {
     "cell_type": "markdown",
     "checksum": "32344ab855de7c731a225d416924e47d",
     "grade": false,
     "grade_id": "Gradient_Title",
     "locked": true,
     "schema_version": 3,
     "solution": false,
     "task": false
    }
   },
   "source": [
    "## Gradient function\n",
    "Each Loss function will have its own gradient function:\n",
    "\n",
    "1. MSE gradient is only for the error\n",
    "2. MAE gradient is only for the error\n",
    "3. L2 gradient is for MSE and L2 regularization, and can call MSE gradient\n",
    "4. L1 gradient is for MSE and L1 regularization, and can call MSE gradient"
   ]
  },
  {
   "cell_type": "code",
   "execution_count": 16,
   "metadata": {
    "deletable": false,
    "id": "BZpqHWhBokzC",
    "nbgrader": {
     "cell_type": "code",
     "checksum": "c1c5a97c25a41dac499e5c245f9166b7",
     "grade": false,
     "grade_id": "MSE_Gradient",
     "locked": false,
     "schema_version": 3,
     "solution": true,
     "task": false
    }
   },
   "outputs": [],
   "source": [
    "def MSE_Gradient (X, t, w, lamda=0):\n",
    "    n,m = X.shape \n",
    "    X0 = np.ones((n,1))\n",
    "    l = 0.5 #l is lambda\n",
    "    Xnew = np.hstack((X,X0))\n",
    "    y = np.matmul(Xnew,w) #y is predicted value of output.\n",
    "    errr = t-y\n",
    "    final_mse_gr = -1*(np.matmul(errr,Xnew)) #using mse gradient formula\n",
    "    return final_mse_gr\n",
    "    \n",
    "    # YOUR CODE HERE\n",
    "    raise NotImplementedError()"
   ]
  },
  {
   "cell_type": "code",
   "execution_count": 17,
   "metadata": {
    "deletable": false,
    "editable": false,
    "id": "eLjolBskokzC",
    "nbgrader": {
     "cell_type": "code",
     "checksum": "d61466927592a8776a8bfa688472bad4",
     "grade": true,
     "grade_id": "MSE_Gradient_Test",
     "locked": true,
     "points": 3,
     "schema_version": 3,
     "solution": false,
     "task": false
    }
   },
   "outputs": [],
   "source": [
    "'''\n",
    "TEST CASES, DO NOT CHANGE\n",
    "'''\n",
    "''' case 1 '''\n",
    "X=np.array([[3,6,5],[4.5,6.6,6]])\n",
    "t=np.array([4,5.5])\n",
    "w=np.array([2,-1,0.5,1])\n",
    "np.testing.assert_array_almost_equal(MSE_Gradient(X,t,w),np.array([2.55, 2.94, 2.9 , 0.4 ]),decimal=3)\n"
   ]
  },
  {
   "cell_type": "code",
   "execution_count": 18,
   "metadata": {
    "deletable": false,
    "id": "YFF1-wxfokzD",
    "nbgrader": {
     "cell_type": "code",
     "checksum": "3d7fb24daaa75279588b80e4a10cc8c6",
     "grade": false,
     "grade_id": "MAE_Gradient",
     "locked": false,
     "schema_version": 3,
     "solution": true,
     "task": false
    }
   },
   "outputs": [],
   "source": [
    "def MAE_Gradient (X, t, w, lamda=0): # Output should have the same size as w\n",
    "    n,m = X.shape \n",
    "    X0 = np.ones((n,1))\n",
    "    l = 0.5  # l is lambda\n",
    "    Xnew = np.hstack((X,X0))\n",
    "    y = np.matmul(Xnew,w)\n",
    "    i1 = np.sign(t-y)  #using sign function to assign sign to error\n",
    "    i2 = -0.5*(np.matmul(i1,Xnew))  #using the formula of MAE Gradient\n",
    "    return i2\n",
    "    # YOUR CODE HERE\n",
    "    raise NotImplementedError()"
   ]
  },
  {
   "cell_type": "code",
   "execution_count": 19,
   "metadata": {
    "deletable": false,
    "editable": false,
    "id": "1bBoPfiMokzD",
    "nbgrader": {
     "cell_type": "code",
     "checksum": "e1d418bf5351112ae8716877f8bb6359",
     "grade": true,
     "grade_id": "MAE_Gradient_Test",
     "locked": true,
     "points": 3,
     "schema_version": 3,
     "solution": false,
     "task": false
    }
   },
   "outputs": [],
   "source": [
    "'''\n",
    "TEST CASES, DO NOT CHANGE\n",
    "'''\n",
    "''' case 1 '''\n",
    "X=np.array([[3,6,5],[4.5,6.6,6]])\n",
    "t=np.array([4,5.5])\n",
    "w=np.array([2,-1,0.5,1])\n",
    "np.testing.assert_array_almost_equal(MAE_Gradient(X,t,w),np.array([0.75,  0.3 ,  0.5 , 0.]),decimal=3)\n"
   ]
  },
  {
   "cell_type": "code",
   "execution_count": 20,
   "metadata": {
    "deletable": false,
    "id": "qmlR91dzokzD",
    "nbgrader": {
     "cell_type": "code",
     "checksum": "bee96dccc2e2096ed187b41cb4e81f4e",
     "grade": false,
     "grade_id": "L2_Gradient",
     "locked": false,
     "schema_version": 3,
     "solution": true,
     "task": false
    }
   },
   "outputs": [],
   "source": [
    "def L2_Gradient (X, t, w, lamda): # Output should have the same size as w\n",
    "    n,m = X.shape \n",
    "    X0 = np.ones((n,1))\n",
    "    l = 0.5  # l is lambda\n",
    "    Xnew = np.hstack((X,X0))\n",
    "    y = np.matmul(Xnew,w)\n",
    "    error = t-y\n",
    "    fin_mse_gr = -1*(np.matmul(error,Xnew)) #calulating mse gradient which is the first term of L2_gradient\n",
    "    p = w.size\n",
    "    w1 = w\n",
    "    w1[p-1] = 0\n",
    "    norm_w = np.sqrt(np.sum(np.square(w1))) # taking norm which is second term.\n",
    "    tr2 = (lamda/norm_w)*w1\n",
    "    fnl5 = fin_mse_gr + tr2 #Now adding two terms to get the L2 Gradient.\n",
    "    return fnl5\n",
    "    \n",
    "    # YOUR CODE HERE\n",
    "    raise NotImplementedError()"
   ]
  },
  {
   "cell_type": "code",
   "execution_count": 21,
   "metadata": {
    "deletable": false,
    "editable": false,
    "id": "6lxwah-zokzD",
    "nbgrader": {
     "cell_type": "code",
     "checksum": "f292b42c3389b24e369234a7210b87bb",
     "grade": true,
     "grade_id": "L2_Gradient_Test",
     "locked": true,
     "points": 3,
     "schema_version": 3,
     "solution": false,
     "task": false
    }
   },
   "outputs": [],
   "source": [
    "'''\n",
    "TEST CASES, DO NOT CHANGE\n",
    "'''\n",
    "''' case 1 '''\n",
    "X=np.array([[3,6,5],[4.5,6.6,6]])\n",
    "t=np.array([4,5.5])\n",
    "w=np.array([2,-1,0.5,1])\n",
    "np.testing.assert_array_almost_equal(L2_Gradient(X,t,w,0.5),np.array([2.986, 2.721, 3.009 , 0.4 ]),decimal=3)\n"
   ]
  },
  {
   "cell_type": "code",
   "execution_count": 22,
   "metadata": {
    "deletable": false,
    "id": "a6P-GUZ0okzE",
    "nbgrader": {
     "cell_type": "code",
     "checksum": "5bff06a852c13effc51014992ffce310",
     "grade": false,
     "grade_id": "L1_Gradient",
     "locked": false,
     "schema_version": 3,
     "solution": true,
     "task": false
    }
   },
   "outputs": [],
   "source": [
    "def L1_Gradient (X, t, w, lamda): # Output should have the same size as w\n",
    "    n,m = X.shape \n",
    "    X0 = np.ones((n,1))\n",
    "    l = 0.5   #l is lambda\n",
    "    Xnew = np.hstack((X,X0))\n",
    "    y = np.matmul(Xnew,w)  #predicted value of output\n",
    "    error = t-y\n",
    "    fin_mse_gr = -1*(np.matmul(error,Xnew))  # using formula to calculate mse which first term of L1 gradient.\n",
    "    w1 = w\n",
    "    w1[3] = 0  #assigning last column of w to zero to maintain dimensions.\n",
    "    term2 = l*(np.sign(w1))  #Now multiplying with lambda to the sign of weights\n",
    "    finnnal = fin_mse_gr + term2   #now adding both terms to get L1 Gradient\n",
    "    return finnnal\n",
    "    \n",
    "    \n",
    "    # YOUR CODE HERE\n",
    "    raise NotImplementedError()"
   ]
  },
  {
   "cell_type": "code",
   "execution_count": 23,
   "metadata": {
    "deletable": false,
    "editable": false,
    "id": "dITScW5pokzE",
    "nbgrader": {
     "cell_type": "code",
     "checksum": "9097b61320e470f429a9f46c7da0b219",
     "grade": true,
     "grade_id": "L1_Gradient_Test",
     "locked": true,
     "points": 3,
     "schema_version": 3,
     "solution": false,
     "task": false
    }
   },
   "outputs": [],
   "source": [
    "'''\n",
    "TEST CASES, DO NOT CHANGE\n",
    "'''\n",
    "''' case 1 '''\n",
    "X=np.array([[3,6,5],[4.5,6.6,6]])\n",
    "t=np.array([4,5.5])\n",
    "w=np.array([2,-1,0.5,1])\n",
    "np.testing.assert_array_almost_equal(L1_Gradient(X,t,w,0.5),np.array([3.05, 2.44, 3.4 , 0.4 ]),decimal=3)\n"
   ]
  },
  {
   "cell_type": "markdown",
   "metadata": {
    "deletable": false,
    "editable": false,
    "id": "4ZsJWrKWokzE",
    "nbgrader": {
     "cell_type": "markdown",
     "checksum": "1980a2f831b5e1ddc9b510c22ef502c7",
     "grade": false,
     "grade_id": "Gradient_Desc_Title",
     "locked": true,
     "schema_version": 3,
     "solution": false,
     "task": false
    }
   },
   "source": [
    "## Gradient Descent Function\n"
   ]
  },
  {
   "cell_type": "code",
   "execution_count": 24,
   "metadata": {
    "deletable": false,
    "id": "fnlmpgxaokzF",
    "nbgrader": {
     "cell_type": "code",
     "checksum": "bba475ce42b2b792bf6e62dd34a82a98",
     "grade": false,
     "grade_id": "Gradient_Descent",
     "locked": false,
     "schema_version": 3,
     "solution": true,
     "task": false
    }
   },
   "outputs": [],
   "source": [
    "def Gradient_Descent (X, X_val, t, t_val, w, lamda, max_iter, epsilon, lr, lossfunc, gradfunc): # See output format in 'return' statement\n",
    "    \n",
    "    # YOUR CODE HERE\n",
    "    raise NotImplementedError()\n",
    "    return w_final, train_loss_final, validation_loss_final, validation_NRMSE #You should return variables structured like this"
   ]
  },
  {
   "cell_type": "code",
   "execution_count": 25,
   "metadata": {
    "deletable": false,
    "editable": false,
    "id": "Gp-kC7iBokzF",
    "nbgrader": {
     "cell_type": "code",
     "checksum": "d10bf1b8996cb4e5d731533ab882eaa2",
     "grade": true,
     "grade_id": "Gradient_Check",
     "locked": true,
     "points": 20,
     "schema_version": 3,
     "solution": false,
     "task": false
    }
   },
   "outputs": [
    {
     "ename": "NotImplementedError",
     "evalue": "",
     "output_type": "error",
     "traceback": [
      "\u001b[1;31m---------------------------------------------------------------------------\u001b[0m",
      "\u001b[1;31mNotImplementedError\u001b[0m                       Traceback (most recent call last)",
      "\u001b[1;32m~\\AppData\\Local\\Temp/ipykernel_29368/1262755205.py\u001b[0m in \u001b[0;36m<module>\u001b[1;34m\u001b[0m\n\u001b[0;32m      9\u001b[0m \u001b[0mt_val\u001b[0m\u001b[1;33m=\u001b[0m\u001b[0mnp\u001b[0m\u001b[1;33m.\u001b[0m\u001b[0marray\u001b[0m\u001b[1;33m(\u001b[0m\u001b[1;33m[\u001b[0m\u001b[1;36m3\u001b[0m\u001b[1;33m,\u001b[0m\u001b[1;36m4\u001b[0m\u001b[1;33m]\u001b[0m\u001b[1;33m)\u001b[0m\u001b[1;33m\u001b[0m\u001b[1;33m\u001b[0m\u001b[0m\n\u001b[0;32m     10\u001b[0m \u001b[0mw\u001b[0m\u001b[1;33m=\u001b[0m\u001b[0mnp\u001b[0m\u001b[1;33m.\u001b[0m\u001b[0marray\u001b[0m\u001b[1;33m(\u001b[0m\u001b[1;33m[\u001b[0m\u001b[1;36m3\u001b[0m\u001b[1;33m,\u001b[0m\u001b[1;36m2\u001b[0m\u001b[1;33m,\u001b[0m\u001b[1;36m1\u001b[0m\u001b[1;33m]\u001b[0m\u001b[1;33m)\u001b[0m\u001b[1;33m\u001b[0m\u001b[1;33m\u001b[0m\u001b[0m\n\u001b[1;32m---> 11\u001b[1;33m \u001b[0mresults\u001b[0m \u001b[1;33m=\u001b[0m\u001b[0mGradient_Descent\u001b[0m \u001b[1;33m(\u001b[0m\u001b[0mX\u001b[0m\u001b[1;33m,\u001b[0m \u001b[0mX_val\u001b[0m\u001b[1;33m,\u001b[0m \u001b[0mt\u001b[0m\u001b[1;33m,\u001b[0m \u001b[0mt_val\u001b[0m\u001b[1;33m,\u001b[0m \u001b[0mw\u001b[0m\u001b[1;33m,\u001b[0m \u001b[1;36m0.1\u001b[0m\u001b[1;33m,\u001b[0m \u001b[1;36m100\u001b[0m\u001b[1;33m,\u001b[0m \u001b[1;36m1e-10\u001b[0m\u001b[1;33m,\u001b[0m \u001b[1;36m1e-5\u001b[0m\u001b[1;33m,\u001b[0m \u001b[0mL2_Loss\u001b[0m\u001b[1;33m,\u001b[0m\u001b[0mL2_Gradient\u001b[0m\u001b[1;33m)\u001b[0m\u001b[1;33m\u001b[0m\u001b[1;33m\u001b[0m\u001b[0m\n\u001b[0m\u001b[0;32m     12\u001b[0m \u001b[0mnp\u001b[0m\u001b[1;33m.\u001b[0m\u001b[0mtesting\u001b[0m\u001b[1;33m.\u001b[0m\u001b[0massert_array_almost_equal\u001b[0m\u001b[1;33m(\u001b[0m\u001b[1;33m[\u001b[0m\u001b[0mresults\u001b[0m\u001b[1;33m[\u001b[0m\u001b[1;36m1\u001b[0m\u001b[1;33m]\u001b[0m\u001b[1;33m,\u001b[0m\u001b[0mresults\u001b[0m\u001b[1;33m[\u001b[0m\u001b[1;36m2\u001b[0m\u001b[1;33m]\u001b[0m\u001b[1;33m]\u001b[0m\u001b[1;33m,\u001b[0m\u001b[1;33m[\u001b[0m\u001b[1;36m697.919\u001b[0m\u001b[1;33m,\u001b[0m\u001b[1;36m17.512\u001b[0m\u001b[1;33m]\u001b[0m\u001b[1;33m,\u001b[0m\u001b[0mdecimal\u001b[0m\u001b[1;33m=\u001b[0m\u001b[1;36m3\u001b[0m\u001b[1;33m)\u001b[0m\u001b[1;33m\u001b[0m\u001b[1;33m\u001b[0m\u001b[0m\n",
      "\u001b[1;32m~\\AppData\\Local\\Temp/ipykernel_29368/1752391457.py\u001b[0m in \u001b[0;36mGradient_Descent\u001b[1;34m(X, X_val, t, t_val, w, lamda, max_iter, epsilon, lr, lossfunc, gradfunc)\u001b[0m\n\u001b[0;32m      2\u001b[0m \u001b[1;33m\u001b[0m\u001b[0m\n\u001b[0;32m      3\u001b[0m     \u001b[1;31m# YOUR CODE HERE\u001b[0m\u001b[1;33m\u001b[0m\u001b[1;33m\u001b[0m\u001b[1;33m\u001b[0m\u001b[0m\n\u001b[1;32m----> 4\u001b[1;33m     \u001b[1;32mraise\u001b[0m \u001b[0mNotImplementedError\u001b[0m\u001b[1;33m(\u001b[0m\u001b[1;33m)\u001b[0m\u001b[1;33m\u001b[0m\u001b[1;33m\u001b[0m\u001b[0m\n\u001b[0m\u001b[0;32m      5\u001b[0m     \u001b[1;32mreturn\u001b[0m \u001b[0mw_final\u001b[0m\u001b[1;33m,\u001b[0m \u001b[0mtrain_loss_final\u001b[0m\u001b[1;33m,\u001b[0m \u001b[0mvalidation_loss_final\u001b[0m\u001b[1;33m,\u001b[0m \u001b[0mvalidation_NRMSE\u001b[0m \u001b[1;31m#You should return variables structured like this\u001b[0m\u001b[1;33m\u001b[0m\u001b[1;33m\u001b[0m\u001b[0m\n",
      "\u001b[1;31mNotImplementedError\u001b[0m: "
     ]
    }
   ],
   "source": [
    "'''\n",
    "TEST CASES, DO NOT CHANGE\n",
    "'''\n",
    "np.random.seed(2)\n",
    "\n",
    "X=np.array([[23,24],[1,2]])\n",
    "t=np.array([4,5])\n",
    "X_val=np.array([[3,4],[5,6]])\n",
    "t_val=np.array([3,4])\n",
    "w=np.array([3,2,1])\n",
    "results =Gradient_Descent (X, X_val, t, t_val, w, 0.1, 100, 1e-10, 1e-5, L2_Loss,L2_Gradient) \n",
    "np.testing.assert_array_almost_equal([results[1],results[2]],[697.919,17.512],decimal=3)"
   ]
  },
  {
   "cell_type": "markdown",
   "metadata": {
    "deletable": false,
    "editable": false,
    "id": "M75l_wFCokzF",
    "nbgrader": {
     "cell_type": "markdown",
     "checksum": "454ff10ef4f228e28cf5dc32b02a46b0",
     "grade": false,
     "grade_id": "PseudoInvTitle",
     "locked": true,
     "schema_version": 3,
     "solution": false,
     "task": false
    }
   },
   "source": [
    "## Pseudo Inverse Method\n",
    "\n",
    "You have to implement a slightly more advanced version, with L2 penalty:\n",
    "\n",
    "w = (X' X + lambda I)^(-1) X' t.\n",
    "\n",
    "See, for example: Section 2 of https://web.mit.edu/zoya/www/linearRegression.pdf"
   ]
  },
  {
   "cell_type": "code",
   "execution_count": 34,
   "metadata": {
    "deletable": false,
    "id": "7ZAU-Td1okzF",
    "nbgrader": {
     "cell_type": "code",
     "checksum": "cb4fed33ae855881d92f2d0bee916fd7",
     "grade": false,
     "grade_id": "PseudoInv",
     "locked": false,
     "schema_version": 3,
     "solution": true,
     "task": false
    }
   },
   "outputs": [],
   "source": [
    "def Pseudo_Inverse (X, t, lamda): # Output should be weight vector\n",
    "    f0 = np.array([[1],[1]])\n",
    "    xnew = np.concatenate([X,f0],axis=1) #making last column of X as 1.\n",
    "    f = np.matmul((xnew.T),xnew)  #Now multiplying both \n",
    "    f1 = f+ lamda* (np.identity(4))  #using formula of pseudo inverse\n",
    "    f2 = (np.linalg.inv(f1))\n",
    "    f3 = np.matmul(f2,(xnew.T))\n",
    "    f5 = np.matmul(f3,t)\n",
    "    return f5\n",
    "\n",
    "    # YOUR CODE HERE\n",
    "    raise NotImplementedError()"
   ]
  },
  {
   "cell_type": "code",
   "execution_count": 35,
   "metadata": {
    "deletable": false,
    "editable": false,
    "id": "50jkxZybokzF",
    "nbgrader": {
     "cell_type": "code",
     "checksum": "a5178b8280650ed5d1d55dc6bbb38a29",
     "grade": true,
     "grade_id": "PseudoInvTest",
     "locked": true,
     "points": 10,
     "schema_version": 3,
     "solution": false,
     "task": false
    }
   },
   "outputs": [],
   "source": [
    "'''\n",
    "TEST CASES, DO NOT CHANGE\n",
    "'''\n",
    "''' case 1 - other data'''\n",
    "X=np.array([[3,6,5],[4.5,6.6,6]])\n",
    "t=np.array([4,5.5])\n",
    "np.testing.assert_array_almost_equal(Pseudo_Inverse(X,t,0.5),np.array([ 0.491,  0.183,  0.319, -0.002]),decimal=3)"
   ]
  },
  {
   "cell_type": "markdown",
   "metadata": {
    "id": "vwFm7JnBXDff"
   },
   "source": [
    "#Save the code above this as a RollNo1_RollNo2_1.py file after running the test blocks to make sure there are no errors."
   ]
  },
  {
   "cell_type": "markdown",
   "metadata": {
    "id": "AboSSuSpw3RB"
   },
   "source": [
    "#**... Part 1 ends**\n",
    "Below this you be more creative. Just comment out the lines where you save files (e.g. test predictions)."
   ]
  },
  {
   "cell_type": "markdown",
   "metadata": {
    "id": "wNxr2zopT59T"
   },
   "source": [
    "#**Part 2 begins ...**\n",
    "\n",
    "**Instructions to be loosely followed (except number 8):**\n",
    "\n",
    "\n",
    "1. Add more code and text cells between this and the last cell.\n",
    "2. Read training data from: https://www.ee.iitb.ac.in/~asethi/Dump/TempTrain.csv only. Do not use a local copy of the dataset.\n",
    "3. Find the best lamda for **MSE+lamda*L2(w)** loss function. Plot training and validation RMSE vs. 1/lamda (1/lamda represents model complexity). Print weights, validation RMSE, validation NMSE for the best lamda.\n",
    "4. Find the best lamda for **MSE+lamda*L1(w)** loss function. Plot training and validation RMSE vs. 1/lamda (1/lamda represents model complexity). Print weights, validation RMSE, validation NMSE for the best lamda.\n",
    "5. Find the best lamda for the **pseudo-inv method**. Plot training and validation RMSE vs. 1/lamda (1/lamda represents model complexity). Print weights, validation RMSE, validation NMSE for the best lamda.\n",
    "6. Write your observations and conclusions.\n",
    "7. Read test data from: https://www.ee.iitb.ac.in/~asethi/Dump/TempTest.csv only. Do not use a local copy of the dataset. Predict its dependent (missing last column) using the model with the lowest MSE, RMSE, or NMSE. Save it as a file RollNo1_RollNo2_1.csv.\n",
    "8. **Disable the prediction csv file saving statement and submit this entire .ipynb file (part 1 and part 2), .py file (part 1 only), and .csv file as a single RollNo1_RollNo2_1.zip file.**\n"
   ]
  },
  {
   "cell_type": "code",
   "execution_count": 36,
   "metadata": {},
   "outputs": [],
   "source": [
    "#importing libraries\n",
    "import numpy as np\n",
    "import pandas as pd\n",
    "from matplotlib import pyplot as plt\n",
    "from sklearn.model_selection import train_test_split,cross_val_score\n",
    "import seaborn as sns\n",
    "import warnings; warnings.simplefilter('ignore')    #ignoring warnings\n",
    "from sklearn.linear_model import LinearRegression\n",
    "import os\n",
    "import sklearn.linear_model"
   ]
  },
  {
   "cell_type": "code",
   "execution_count": 37,
   "metadata": {},
   "outputs": [],
   "source": [
    "#Reading csv file using link given in question\n",
    "df=pd.read_csv('https://www.ee.iitb.ac.in/~asethi/Dump/TempTrain.csv')"
   ]
  },
  {
   "cell_type": "code",
   "execution_count": 38,
   "metadata": {},
   "outputs": [
    {
     "data": {
      "text/html": [
       "<div>\n",
       "<style scoped>\n",
       "    .dataframe tbody tr th:only-of-type {\n",
       "        vertical-align: middle;\n",
       "    }\n",
       "\n",
       "    .dataframe tbody tr th {\n",
       "        vertical-align: top;\n",
       "    }\n",
       "\n",
       "    .dataframe thead th {\n",
       "        text-align: right;\n",
       "    }\n",
       "</style>\n",
       "<table border=\"1\" class=\"dataframe\">\n",
       "  <thead>\n",
       "    <tr style=\"text-align: right;\">\n",
       "      <th></th>\n",
       "      <th>Present_Tmax</th>\n",
       "      <th>Present_Tmin</th>\n",
       "      <th>LDAPS_RHmin</th>\n",
       "      <th>LDAPS_RHmax</th>\n",
       "      <th>LDAPS_Tmax_lapse</th>\n",
       "      <th>LDAPS_Tmin_lapse</th>\n",
       "      <th>LDAPS_WS</th>\n",
       "      <th>LDAPS_LH</th>\n",
       "      <th>LDAPS_CC1</th>\n",
       "      <th>LDAPS_CC2</th>\n",
       "      <th>...</th>\n",
       "      <th>LDAPS_PPT1</th>\n",
       "      <th>LDAPS_PPT2</th>\n",
       "      <th>LDAPS_PPT3</th>\n",
       "      <th>LDAPS_PPT4</th>\n",
       "      <th>lat</th>\n",
       "      <th>lon</th>\n",
       "      <th>DEM</th>\n",
       "      <th>Slope</th>\n",
       "      <th>Solar radiation</th>\n",
       "      <th>Next_Tmax</th>\n",
       "    </tr>\n",
       "  </thead>\n",
       "  <tbody>\n",
       "    <tr>\n",
       "      <th>0</th>\n",
       "      <td>28.7</td>\n",
       "      <td>21.4</td>\n",
       "      <td>58.255688</td>\n",
       "      <td>91.116364</td>\n",
       "      <td>28.074101</td>\n",
       "      <td>23.006936</td>\n",
       "      <td>6.818887</td>\n",
       "      <td>69.451805</td>\n",
       "      <td>0.233947</td>\n",
       "      <td>0.203896</td>\n",
       "      <td>...</td>\n",
       "      <td>0.0</td>\n",
       "      <td>0.0</td>\n",
       "      <td>0.0</td>\n",
       "      <td>0.0</td>\n",
       "      <td>37.6046</td>\n",
       "      <td>126.991</td>\n",
       "      <td>212.3350</td>\n",
       "      <td>2.7850</td>\n",
       "      <td>5992.895996</td>\n",
       "      <td>29.1</td>\n",
       "    </tr>\n",
       "    <tr>\n",
       "      <th>1</th>\n",
       "      <td>31.9</td>\n",
       "      <td>21.6</td>\n",
       "      <td>52.263397</td>\n",
       "      <td>90.604721</td>\n",
       "      <td>29.850689</td>\n",
       "      <td>24.035009</td>\n",
       "      <td>5.691890</td>\n",
       "      <td>51.937448</td>\n",
       "      <td>0.225508</td>\n",
       "      <td>0.251771</td>\n",
       "      <td>...</td>\n",
       "      <td>0.0</td>\n",
       "      <td>0.0</td>\n",
       "      <td>0.0</td>\n",
       "      <td>0.0</td>\n",
       "      <td>37.6046</td>\n",
       "      <td>127.032</td>\n",
       "      <td>44.7624</td>\n",
       "      <td>0.5141</td>\n",
       "      <td>5869.312500</td>\n",
       "      <td>30.5</td>\n",
       "    </tr>\n",
       "  </tbody>\n",
       "</table>\n",
       "<p>2 rows × 22 columns</p>\n",
       "</div>"
      ],
      "text/plain": [
       "   Present_Tmax  Present_Tmin  LDAPS_RHmin  LDAPS_RHmax  LDAPS_Tmax_lapse  \\\n",
       "0          28.7          21.4    58.255688    91.116364         28.074101   \n",
       "1          31.9          21.6    52.263397    90.604721         29.850689   \n",
       "\n",
       "   LDAPS_Tmin_lapse  LDAPS_WS   LDAPS_LH  LDAPS_CC1  LDAPS_CC2  ...  \\\n",
       "0         23.006936  6.818887  69.451805   0.233947   0.203896  ...   \n",
       "1         24.035009  5.691890  51.937448   0.225508   0.251771  ...   \n",
       "\n",
       "   LDAPS_PPT1  LDAPS_PPT2  LDAPS_PPT3  LDAPS_PPT4      lat      lon       DEM  \\\n",
       "0         0.0         0.0         0.0         0.0  37.6046  126.991  212.3350   \n",
       "1         0.0         0.0         0.0         0.0  37.6046  127.032   44.7624   \n",
       "\n",
       "    Slope  Solar radiation  Next_Tmax  \n",
       "0  2.7850      5992.895996       29.1  \n",
       "1  0.5141      5869.312500       30.5  \n",
       "\n",
       "[2 rows x 22 columns]"
      ]
     },
     "execution_count": 38,
     "metadata": {},
     "output_type": "execute_result"
    }
   ],
   "source": [
    "#reading top 2 rows of data\n",
    "df.head(2)"
   ]
  },
  {
   "cell_type": "code",
   "execution_count": 39,
   "metadata": {},
   "outputs": [
    {
     "data": {
      "text/plain": [
       "(6082,)"
      ]
     },
     "execution_count": 39,
     "metadata": {},
     "output_type": "execute_result"
    }
   ],
   "source": [
    "#assigning a column to Y variable\n",
    "Y=np.array(df['Next_Tmax'])\n",
    "Y.shape"
   ]
  },
  {
   "cell_type": "code",
   "execution_count": 40,
   "metadata": {},
   "outputs": [
    {
     "data": {
      "text/plain": [
       "(6082, 21)"
      ]
     },
     "execution_count": 40,
     "metadata": {},
     "output_type": "execute_result"
    }
   ],
   "source": [
    "# Assigning columns to X variable\n",
    "X=np.array(df.loc[:,'Present_Tmax':'Solar radiation'])\n",
    "X.shape"
   ]
  },
  {
   "cell_type": "code",
   "execution_count": 41,
   "metadata": {},
   "outputs": [],
   "source": [
    "#using test train spilt to split the data in 80:20 ratio\n",
    "X_train, X_test, y_train, y_test =train_test_split(X,Y,test_size=0.2)"
   ]
  },
  {
   "cell_type": "code",
   "execution_count": 59,
   "metadata": {},
   "outputs": [],
   "source": [
    "\n",
    "%matplotlib inline\n",
    "plt.style.use('ggplot')"
   ]
  },
  {
   "cell_type": "code",
   "execution_count": 43,
   "metadata": {},
   "outputs": [],
   "source": [
    "X_train_scaled=sklearn.preprocessing.scale(X_train, axis=0, with_mean=True, \n",
    "with_std=True, copy=True)\n",
    "\n",
    "X_test_scaled=sklearn.preprocessing.scale(X_test, axis=0, with_mean=True, \n",
    "with_std=True, copy=True)"
   ]
  },
  {
   "cell_type": "code",
   "execution_count": 44,
   "metadata": {},
   "outputs": [
    {
     "name": "stdout",
     "output_type": "stream",
     "text": [
      "Array: [[-1.0347905  -0.12094581 -1.76216419 ... -0.78192553 -0.7239871\n",
      "  -0.24170994]\n",
      " [ 0.51264824  0.08303292 -0.77066387 ... -0.73727469 -0.82693171\n",
      "  -0.73410999]\n",
      " [-0.55336511 -0.08015006  1.22030239 ... -0.82482212 -0.76051343\n",
      "  -1.2027243 ]\n",
      " ...\n",
      " [-0.62214017 -0.2025373   0.08527454 ... -0.73727469 -0.82693171\n",
      "  -0.1927336 ]\n",
      " [ 2.26641215  1.59247552 -0.80265305 ... -0.65609953 -0.49976018\n",
      "  -0.16856594]\n",
      " [ 1.13162374  1.3069053  -1.09993484 ... -0.49229484 -0.54940617\n",
      "  -0.94850878]]\n",
      "Datatype: float64\n"
     ]
    }
   ],
   "source": [
    "#printing array and datatype of X_test scaled function\n",
    "print('Array:', X_test_scaled)\n",
    " \n",
    "print('Datatype:', X_test_scaled.dtype)"
   ]
  },
  {
   "cell_type": "code",
   "execution_count": 45,
   "metadata": {},
   "outputs": [],
   "source": [
    "\n",
    "# Function that gets prediction from matrix and Weights\n",
    "def getPred(X,W):\n",
    "    return(np.matmul(X,W))\n",
    "# The basic loss, sum over the difference of y-ypred\n",
    "def Loss(Y,ypred):\n",
    "    l=(Y-ypred)**2\n",
    "    return(l.sum())\n",
    "#The Mean Square Error.\n",
    "def MSE(X,Y,W):\n",
    "    return((1/X.shape[0])*Loss(Y,getPred(X,W)))"
   ]
  },
  {
   "cell_type": "code",
   "execution_count": 46,
   "metadata": {},
   "outputs": [],
   "source": [
    "#This function computes the weights seen in Figure 9.\n",
    "def GradDesc(X,Y,learnRate=0.01,epochs=2000,reg=0):\n",
    "    \n",
    "    global cacheLoss\n",
    "    cacheLoss=[None]*epochs\n",
    "    \n",
    "   # Random Initialization of Weights\n",
    "    Weights=np.random.rand(X.shape[1])\n",
    "    \n",
    "    Weights=np.array(Weights)\n",
    "    Weights=Weights.reshape(-1,1)\n",
    "    m=X.shape[0]\n",
    "    \n",
    "    for i in range(epochs):\n",
    "        \n",
    "        predictions=getPred(X,Weights)\n",
    "        cacheLoss[i]=Loss(Y,predictions)\n",
    "        \n",
    "        Weights[0]=Weights[0]-(1/m)*learnRate*(np.matmul(X[:,0].transpose(),predictions-Y))\n",
    "        \n",
    "        for j in range(1,len(Weights)):\n",
    "            \n",
    "            Weights[j]=Weights[j]-(1/m)*learnRate*(np.matmul(X[:,j].transpose(),predictions-Y)+sum(np.dot(Weights[j],reg)))\n",
    "    return(Weights)"
   ]
  },
  {
   "cell_type": "code",
   "execution_count": 47,
   "metadata": {},
   "outputs": [],
   "source": [
    "# Turn into numpy objects, Y should be a column vector\n",
    "# X_train_scaled=np.array(X_train_scaled)\n",
    "y_train=np.array(y_train)\n",
    "y_train=y_train.reshape(-1,1)\n",
    "y_test=np.array(y_test)\n",
    "y_test=y_test.reshape(-1,1)\n",
    "\n",
    "#We need a column of ones to add as a bias term\n",
    "addBias=np.ones([X_train_scaled.shape[0],1])\n",
    "X_train_scaled=np.append(addBias,X_train_scaled,axis=1)"
   ]
  },
  {
   "cell_type": "code",
   "execution_count": 48,
   "metadata": {},
   "outputs": [],
   "source": [
    "addBias=np.ones([X_test_scaled.shape[0],1])\n",
    "X_test_scaled=np.append(addBias,X_test_scaled,axis=1)"
   ]
  },
  {
   "cell_type": "code",
   "execution_count": 49,
   "metadata": {},
   "outputs": [
    {
     "data": {
      "text/plain": [
       "array([[ 3.02918396e+01],\n",
       "       [ 4.72563737e-01],\n",
       "       [ 9.09606480e-02],\n",
       "       [ 3.02013620e-01],\n",
       "       [-7.79591123e-02],\n",
       "       [ 1.71429519e+00],\n",
       "       [ 3.51534175e-01],\n",
       "       [-4.03693058e-01],\n",
       "       [ 2.64005871e-01],\n",
       "       [-3.13678186e-01],\n",
       "       [-1.86799614e-01],\n",
       "       [-1.64616826e-01],\n",
       "       [-1.97018963e-01],\n",
       "       [-7.48529229e-02],\n",
       "       [ 2.10111302e-01],\n",
       "       [-2.22203383e-02],\n",
       "       [-3.46605203e-02],\n",
       "       [-4.75479327e-02],\n",
       "       [-1.34946160e-01],\n",
       "       [-2.32034167e-01],\n",
       "       [ 2.95018712e-01],\n",
       "       [ 6.06154475e-02]])"
      ]
     },
     "execution_count": 49,
     "metadata": {},
     "output_type": "execute_result"
    }
   ],
   "source": [
    "# finding weight using gardient descent\n",
    "Wlinear=GradDesc(X_train_scaled,y_train)\n",
    "Wlinear"
   ]
  },
  {
   "cell_type": "code",
   "execution_count": 68,
   "metadata": {},
   "outputs": [],
   "source": [
    "X_train, X_Validate, y_train, y_Validate = sklearn.model_selection.train_test_split(X, Y, test_size=0.2, random_state=42)"
   ]
  },
  {
   "cell_type": "code",
   "execution_count": 69,
   "metadata": {},
   "outputs": [
    {
     "data": {
      "text/plain": [
       "1.846900262417173"
      ]
     },
     "execution_count": 69,
     "metadata": {},
     "output_type": "execute_result"
    }
   ],
   "source": [
    "#calling Mse error\n",
    "MSE(X_test_scaled,y_test,Wlinear)"
   ]
  },
  {
   "cell_type": "code",
   "execution_count": 70,
   "metadata": {},
   "outputs": [],
   "source": [
    "def getRidgeLambda(X,Y):\n",
    "    \n",
    "    bestMSE=10e100\n",
    "    \n",
    "    lamList=[l*0.05 for l in range(0,300)]\n",
    "\n",
    "    global ridgeLambda\n",
    "    \n",
    "    for l in lamList:\n",
    "        Wr=GradDesc(X,Y,reg=l)\n",
    "        if MSE(X_Validate,y_validate,Wr)< bestMSE:\n",
    "            bestMSE=MSE(X_Validate,y_Validate,Wr)\n",
    "            ridgeLambda=l\n",
    "          \n",
    "    \n",
    "    return(ridgeLambda)\n",
    "\n"
   ]
  },
  {
   "cell_type": "code",
   "execution_count": 71,
   "metadata": {},
   "outputs": [],
   "source": [
    "# Cross Validation to get Lasso Paramaters\n",
    "\n",
    "def getLassoLambda(X,Y):\n",
    "    \n",
    "    bestMSE=10e100\n",
    "    \n",
    "    alphaList=[l*0.1 for l in range(1,200)]\n",
    "    \n",
    "    for a in alphaList:\n",
    "        lassoModel=sklearn.linear_model.Lasso(alpha=a,max_iter=5000,fit_intercept=False)\n",
    "        \n",
    "        lassoModel.fit(X,Y)\n",
    "        \n",
    "        getPred=lassoModel.predict(X_test).reshape(-1,1)\n",
    "        \n",
    "        MSE=sum((y_test-getPred)**2)\n",
    "        if MSE < bestMSE:\n",
    "            bestMSE=MSE\n",
    "            lassoLambda=a\n",
    "    return(lassoLambda)\n"
   ]
  },
  {
   "cell_type": "code",
   "execution_count": 72,
   "metadata": {},
   "outputs": [],
   "source": [
    "from sklearn import linear_model\n",
    "l_min=0.01\n",
    "l_max=0.2\n",
    "l_num=10\n",
    "lambdas=np.linspace(l_min,l_max,l_num)\n",
    "Rsq_train=np.zeros(l_num)\n",
    "Rsq_test=np.zeros(l_num)\n",
    "\n",
    "pred_num=X.shape[1]\n",
    "coef_a=np.zeros((l_num, pred_num))\n",
    "\n",
    "\n",
    "\n",
    "for ind, i in enumerate(lambdas):\n",
    "    lasso_df=linear_model.Lasso(alpha=i).fit(X_train,y_train)\n",
    "    scores=cross_val_score(lasso_df, X,Y, cv=10, scoring='r2')\n",
    "    Rsq_train[ind]=lasso_df.score(X_train, y_train)\n",
    "    Rsq_test[ind]=lasso_df.score(X_test, y_test)"
   ]
  },
  {
   "cell_type": "code",
   "execution_count": 73,
   "metadata": {},
   "outputs": [
    {
     "data": {
      "image/png": "[encoded data removed]",
      "text/plain": [
       "<Figure size 1296x576 with 1 Axes>"
      ]
     },
     "metadata": {},
     "output_type": "display_data"
    }
   ],
   "source": [
    "plt.figure(figsize=(18,8))\n",
    "plt.plot(Rsq_train, 'bo-', label=r'$RMSE$ Training data', color ='blue',alpha=0.5,linewidth=4)\n",
    "plt.plot(Rsq_test,'bo-',label=r'$RMSE$ validation data', color='red',alpha=0.5,linewidth=4)\n",
    "plt.ylabel(r'RMSE')\n",
    "plt.xlabel('Lasso Regression with diffrent lambdas')\n",
    "plt.legend(loc='best')\n",
    "plt.grid()"
   ]
  },
  {
   "cell_type": "code",
   "execution_count": 74,
   "metadata": {},
   "outputs": [],
   "source": [
    "from sklearn import linear_model\n",
    "l_min=0.01\n",
    "l_max=0.2\n",
    "l_num=10\n",
    "lambdas=np.linspace(l_min,l_max,l_num)\n",
    "\n",
    "\n",
    "Rsq_train=np.zeros(l_num)\n",
    "Rsq_test=np.zeros(l_num)\n",
    "\n",
    "pred_num=X.shape[1]\n",
    "coef_a=np.zeros((l_num, pred_num))\n",
    "\n",
    "\n",
    "\n",
    "for ind, i in enumerate(lambdas):\n",
    "    Ridge_df=linear_model.Ridge(alpha=i).fit(X_train,y_train)\n",
    "    scores=cross_val_score(Ridge_df, X,Y, cv=10, scoring='r2')\n",
    "    Rsq_train[ind]=Ridge_df.score(X_train, y_train)\n",
    "    Rsq_test[ind]=Ridge_df.score(X_test, y_test)\n",
    "    coef_a[ind,:]=Ridge_df.coef_"
   ]
  },
  {
   "cell_type": "code",
   "execution_count": 75,
   "metadata": {},
   "outputs": [
    {
     "data": {
      "image/png": "[encoded data removed]",
      "text/plain": [
       "<Figure size 1296x576 with 1 Axes>"
      ]
     },
     "metadata": {},
     "output_type": "display_data"
    }
   ],
   "source": [
    "plt.figure(figsize=(18,8))\n",
    "plt.plot(Rsq_train, 'bo-', label=r'$R^2$ Training data', color ='blue',alpha=0.5,linewidth=4)\n",
    "plt.plot(Rsq_test,'bo-',label=r'$R^2$ Testing data', color='red',alpha=0.5,linewidth=4)\n",
    "plt.ylabel(r'$R^2$')\n",
    "plt.xlabel('Ridge Regression with diffrent lambdas')\n",
    "plt.legend(loc='best')\n",
    "plt.grid()"
   ]
  },
  {
   "cell_type": "markdown",
   "metadata": {
    "id": "X5xoNrdBYCGc"
   },
   "source": [
    "#**... Part 2 ends.**\n",
    "\n",
    "1. Write the name or roll no.s of friends from outside your group with whom you discussed the assignment here (no penalty for mere discussion without copying code): \n",
    "2. Write the links of sources on the internet referred here (no penalty for mere consultation without copying code): "
   ]
  }
 ],
 "metadata": {
  "colab": {
   "collapsed_sections": [],
   "name": "Assignment_1_Template.ipynb",
   "provenance": []
  },
  "kernelspec": {
   "display_name": "Python 3 (ipykernel)",
   "language": "python",
   "name": "python3"
  },
  "language_info": {
   "codemirror_mode": {
    "name": "ipython",
    "version": 3
   },
   "file_extension": ".py",
   "mimetype": "text/x-python",
   "name": "python",
   "nbconvert_exporter": "python",
   "pygments_lexer": "ipython3",
   "version": "3.9.5"
  }
 },
 "nbformat": 4,
 "nbformat_minor": 1
}
